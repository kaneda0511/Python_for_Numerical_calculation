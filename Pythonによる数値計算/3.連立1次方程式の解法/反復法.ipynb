{
 "cells": [
  {
   "cell_type": "markdown",
   "id": "537dd5f0",
   "metadata": {},
   "source": [
    "多くの数値計算法は最終的に連立１次方程式に帰着させることが多いのでこの分野において連立1次方程式はとても重要な分野である\n",
    "\n",
    "連立1次方程式の解き方は未知の数にはよらないが、コンピュータで大次元の方程式を解く場合には、計算時間や記憶容量、計算速度の問題がつきもの。\n",
    "\n",
    "連立1次方程式のコンピュータによる解き方は大別すると、反復法と消去法がある。"
   ]
  },
  {
   "cell_type": "markdown",
   "id": "020d29de",
   "metadata": {},
   "source": [
    "## ヤコビ法"
   ]
  },
  {
   "cell_type": "code",
   "execution_count": 38,
   "id": "7b78889d",
   "metadata": {},
   "outputs": [
    {
     "name": "stdout",
     "output_type": "stream",
     "text": [
      "0 [2.2222222 2.0000000 1.1428571 2.8333333]\n",
      "1 [1.3359788 1.3759921 2.8412698 3.1772487]\n",
      "2 [1.2477219 1.9791667 2.6346372 3.7870922]\n",
      "3 [1.0688819 1.8733423 2.9686057 3.8334532]\n",
      "4 [1.0501396 1.9957493 2.9260676 3.9569453]\n",
      "5 [1.0139432 1.9743638 2.9936470 3.9662908]\n",
      "6 [1.0101483 1.9991396 2.9850361 3.9912858]\n",
      "7 [1.0028221 1.9948112 2.9987141 3.9931772]\n",
      "8 [1.0020540 1.9998259 2.9969713 3.9982362]\n",
      "9 [1.0005712 1.9989498 2.9997397 3.9986191]\n",
      "10 [1.0004157 1.9999648 2.9993870 3.9996430]\n",
      "11 [1.0001156 1.9997874 2.9999473 3.9997205]\n",
      "12 [1.0000841 1.9999929 2.9998759 3.9999277]\n",
      "13 [1.0000234 1.9999570 2.9999893 3.9999434]\n",
      "14 [1.0000170 1.9999986 2.9999749 3.9999854]\n",
      "15 [1.0000047 1.9999913 2.9999978 3.9999885]\n",
      "16 [1.0000034 1.9999997 2.9999949 3.9999970]\n",
      "17 [1.0000010 1.9999982 2.9999996 3.9999977]\n",
      "18 [1.0000007 1.9999999 2.9999990 3.9999994]\n",
      "19 [1.0000002 1.9999996 2.9999999 3.9999995]\n",
      "20 [1.0000001 2.0000000 2.9999998 3.9999999]\n",
      "21 [1.0000000 1.9999999 3.0000000 3.9999999]\n",
      "22 [1.0000000 2.0000000 3.0000000 4.0000000]\n",
      "It converged.\n"
     ]
    }
   ],
   "source": [
    "import numpy as np\n",
    "\n",
    "EPS = 1e-7\n",
    "IMAX = 50\n",
    "N = 4\n",
    "\n",
    "A = np.zeros((N+1,N+1))\n",
    "A[1][1]=9.0; A[1][2]=2.0;  A[1][3]=1.0;  A[1][4]=1.0\n",
    "A[2][1]=2.0; A[2][2]=8.0;  A[2][3]=-2.0; A[2][4]=1.0\n",
    "A[3][1]=-1.0;A[3][2]=-2.0; A[3][3]=7.0;  A[3][4]=-2.0\n",
    "A[4][1]=1.0; A[4][2]=-1.0; A[4][3]=-2.0; A[4][4]=6.0\n",
    "\n",
    "B = np.zeros(N+1)\n",
    "B[1]=20;B[2]=16;B[3]=8;B[4]=17\n",
    "\n",
    "X = np.zeros(N+1)\n",
    "XN = np.zeros(N+1)\n",
    "\n",
    "for i in range(IMAX):\n",
    "    err=0\n",
    "    for j in range(1,N+1):\n",
    "        XN[j]=B[j]\n",
    "        for k in range(1,j):\n",
    "            XN[j]=XN[j]-A[j][k]*X[k]\n",
    "        for k in range(j+1,N+1):\n",
    "            XN[j]=XN[j]-A[j][k]*X[k]\n",
    "        XN[j]=XN[j]/A[j][j]\n",
    "        err=err+abs(XN[j]-X[j])\n",
    "        \n",
    "    if err<EPS:\n",
    "        break\n",
    "    else:\n",
    "        for j in range(1,N+1):\n",
    "            X[j]=XN[j]\n",
    "            \n",
    "    np.set_printoptions(precision=7, floatmode=\"fixed\", suppress=True)\n",
    "    print(i,X[1:N+1])\n",
    "\n",
    "if i+1>=IMAX:\n",
    "    print(\"It did not converged.\")\n",
    "else:\n",
    "    print(\"It converged.\")"
   ]
  },
  {
   "cell_type": "code",
   "execution_count": 25,
   "id": "f2e9565a",
   "metadata": {},
   "outputs": [
    {
     "data": {
      "text/plain": [
       "array([[ 0.0000000,  0.0000000,  0.0000000,  0.0000000,  0.0000000],\n",
       "       [ 0.0000000,  9.0000000,  2.0000000,  1.0000000,  1.0000000],\n",
       "       [ 0.0000000,  2.0000000,  8.0000000, -2.0000000,  1.0000000],\n",
       "       [ 0.0000000, -1.0000000, -2.0000000,  7.0000000, -2.0000000],\n",
       "       [ 0.0000000,  1.0000000, -1.0000000, -2.0000000,  6.0000000]])"
      ]
     },
     "execution_count": 25,
     "metadata": {},
     "output_type": "execute_result"
    }
   ],
   "source": [
    "A"
   ]
  },
  {
   "cell_type": "code",
   "execution_count": 26,
   "id": "2ca12ed7",
   "metadata": {},
   "outputs": [
    {
     "data": {
      "text/plain": [
       "array([ 0.0000000, 20.0000000, 16.0000000,  8.0000000, 17.0000000])"
      ]
     },
     "execution_count": 26,
     "metadata": {},
     "output_type": "execute_result"
    }
   ],
   "source": [
    "B"
   ]
  },
  {
   "cell_type": "code",
   "execution_count": 28,
   "id": "8eba29d9",
   "metadata": {},
   "outputs": [
    {
     "name": "stdout",
     "output_type": "stream",
     "text": [
      "[1.0000000 2.0000000 3.0000000 4.0000000]\n"
     ]
    }
   ],
   "source": [
    "import numpy as np\n",
    "\n",
    "A = np.array([[9,2,1,1],\n",
    "              [2,8,-2,1],\n",
    "              [-1,-2,7,-2],\n",
    "              [1,-1,-2,6]])\n",
    "\n",
    "b = np.array([20,16,8,17])\n",
    "\n",
    "x = np.linalg.solve(A,b)\n",
    "\n",
    "print(x)"
   ]
  },
  {
   "cell_type": "markdown",
   "id": "708193d1",
   "metadata": {},
   "source": [
    "## ガウス・ザイデル法"
   ]
  },
  {
   "cell_type": "code",
   "execution_count": 41,
   "id": "08530410",
   "metadata": {},
   "outputs": [
    {
     "name": "stdout",
     "output_type": "stream",
     "text": [
      "0 [2.2222222 1.4444444 1.8730159 3.3280423]\n",
      "1 [1.3233392 1.7214139 2.7746074 3.8245482]\n",
      "2 [1.1064463 1.9389717 2.9476409 3.9546345]\n",
      "3 [1.0244201 1.9864759 2.9866630 3.9892303]\n",
      "4 [1.0056839 1.9965910 2.9967609 3.9974048]\n",
      "5 [1.0014058 1.9991632 2.9992203 3.9993663]\n",
      "6 [1.0003430 1.9997985 2.9998104 3.9998460]\n",
      "7 [1.0000829 1.9999511 2.9999539 3.9999627]\n",
      "8 [1.0000201 1.9999881 2.9999888 3.9999909]\n",
      "9 [1.0000049 1.9999971 2.9999973 3.9999978]\n",
      "10 [1.0000012 1.9999993 2.9999993 3.9999995]\n",
      "11 [1.0000003 1.9999998 2.9999998 3.9999999]\n",
      "12 [1.0000001 2.0000000 3.0000000 4.0000000]\n",
      "13 [1.0000000 2.0000000 3.0000000 4.0000000]\n",
      "It converged.\n"
     ]
    }
   ],
   "source": [
    "import numpy as np\n",
    "\n",
    "EPS = 1e-7\n",
    "IMAX = 50\n",
    "N = 4\n",
    "\n",
    "A = np.zeros((N+1,N+1))\n",
    "A[1][1]=9.0; A[1][2]=2.0;  A[1][3]=1.0;  A[1][4]=1.0\n",
    "A[2][1]=2.0; A[2][2]=8.0;  A[2][3]=-2.0; A[2][4]=1.0\n",
    "A[3][1]=-1.0;A[3][2]=-2.0; A[3][3]=7.0;  A[3][4]=-2.0\n",
    "A[4][1]=1.0; A[4][2]=-1.0; A[4][3]=-2.0; A[4][4]=6.0\n",
    "\n",
    "B = np.zeros(N+1)\n",
    "B[1]=20;B[2]=16;B[3]=8;B[4]=17\n",
    "\n",
    "X = np.zeros(N+1)\n",
    "XN = np.zeros(N+1)\n",
    "\n",
    "for i in range(IMAX):\n",
    "    err=0\n",
    "    for j in range(1,N+1):\n",
    "        XN[j]=B[j]\n",
    "        for k in range(1,j):\n",
    "            XN[j]=XN[j]-A[j][k]*XN[k]\n",
    "        for k in range(j+1,N+1):\n",
    "            XN[j]=XN[j]-A[j][k]*XN[k]\n",
    "        XN[j]=XN[j]/A[j][j]\n",
    "        err=err+abs(XN[j]-X[j])\n",
    "        \n",
    "    if err<EPS:\n",
    "        break\n",
    "    else:\n",
    "        for j in range(1,N+1):\n",
    "            X[j]=XN[j]\n",
    "            \n",
    "    np.set_printoptions(precision=7, floatmode=\"fixed\", suppress=True)\n",
    "    print(i,X[1:N+1])\n",
    "\n",
    "if i+1>=IMAX:\n",
    "    print(\"It did not converged.\")\n",
    "else:\n",
    "    print(\"It converged.\")"
   ]
  },
  {
   "cell_type": "code",
   "execution_count": null,
   "id": "b729476b",
   "metadata": {},
   "outputs": [],
   "source": []
  }
 ],
 "metadata": {
  "kernelspec": {
   "display_name": "Python 3",
   "language": "python",
   "name": "python3"
  },
  "language_info": {
   "codemirror_mode": {
    "name": "ipython",
    "version": 3
   },
   "file_extension": ".py",
   "mimetype": "text/x-python",
   "name": "python",
   "nbconvert_exporter": "python",
   "pygments_lexer": "ipython3",
   "version": "3.8.8"
  }
 },
 "nbformat": 4,
 "nbformat_minor": 5
}
