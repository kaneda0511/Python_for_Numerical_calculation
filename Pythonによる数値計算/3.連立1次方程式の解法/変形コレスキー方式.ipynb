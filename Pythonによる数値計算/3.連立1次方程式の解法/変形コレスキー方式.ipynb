{
 "cells": [
  {
   "cell_type": "markdown",
   "id": "b04a6327",
   "metadata": {},
   "source": [
    "## 変形コレスキー法\n",
    "\n",
    "コレスキー法だと平方根の計算を必要であり、平方根の計算は剰余算に比べて時間がかかる上に制度的にも不利なので、コレスキー法を変形して剰余算に持っていくことを考える。\n",
    "\n",
    "この場合、変形方法として（i,i）成分をDとしてU^(t)DU=Aのようにすると上手くいく。"
   ]
  },
  {
   "cell_type": "code",
   "execution_count": 8,
   "id": "08d583a0",
   "metadata": {},
   "outputs": [
    {
     "name": "stdout",
     "output_type": "stream",
     "text": [
      "U= [[1.0 2.0 1.0]\n",
      " [0.0 1.0 1.0]\n",
      " [0.0 0.0 1.0]]\n",
      "D= [[ 1.0  0.0  0.0]\n",
      " [ 0.0 -1.0  0.0]\n",
      " [ 0.0  0.0  4.0]]\n",
      "X= [-2.0  1.0  2.0]\n"
     ]
    }
   ],
   "source": [
    "import numpy as np\n",
    "\n",
    "#元数\n",
    "N=3\n",
    "\n",
    "#問題設定\n",
    "A=np.zeros((N+1,N+1))\n",
    "B=np.zeros(N+1)\n",
    "A[1][1]=1; A[1][2]=2; A[1][3]=1;\n",
    "A[2][1]=2; A[2][2]=3; A[2][3]=1;\n",
    "A[3][1]=1; A[3][2]=1; A[3][3]=4;\n",
    "\n",
    "B[1]=2; B[2]=1; B[3]=7\n",
    "\n",
    "U=np.zeros((N+1,N+1))\n",
    "D=np.zeros((N+1,N+1))\n",
    "X=np.zeros(N+1)\n",
    "Z=np.zeros(N+1)\n",
    "\n",
    "#DとUの計算\n",
    "for i in range(1,N+1):\n",
    "    U[i][i]=1\n",
    "    \n",
    "D[1][1]=A[1][1]\n",
    "for j in range(2,N+1):\n",
    "    U[1][j]=A[1][j]/D[1][1]\n",
    "\n",
    "for i in range(2,N+1):\n",
    "    sum = 0\n",
    "    for m in range(1,i):\n",
    "        sum=sum+U[m][i]*U[m][i]*D[m][m]\n",
    "    D[i][i]=A[i][i]-sum\n",
    "    \n",
    "    if i!=N:\n",
    "        for j in range(i+1,N+1):\n",
    "            sum=0\n",
    "            for m in range(1,i):\n",
    "                sum=sum+U[m][j]*D[m][m]*U[m][i]\n",
    "            U[i][j]=(A[i][j]-sum)/D[i][i]\n",
    "\n",
    "#DとUの確認            \n",
    "np.set_printoptions(precision=1,floatmode=\"fixed\",suppress=True)\n",
    "print(\"U=\",U[1:N+1,1:N+1])\n",
    "print(\"D=\",D[1:N+1,1:N+1])\n",
    "\n",
    "#前進消去法でZを計算\n",
    "Z[1]=B[1]\n",
    "for i in range(2,N+1):\n",
    "    sum=0\n",
    "    for m in range(1,i):\n",
    "        sum=sum+U[m][i]*Z[m]\n",
    "    Z[i]=B[i]-sum\n",
    "\n",
    "#解を求める\n",
    "X[N]=Z[N]/D[N][N]\n",
    "for i in range(N-1,0,-1):\n",
    "    sum=0\n",
    "    for m in range(i+1,N+1):\n",
    "        sum=sum+U[i][m]*X[m]\n",
    "        X[i]=Z[i]/D[i][i]-sum\n",
    "print(\"X=\",X[1:N+1])"
   ]
  },
  {
   "cell_type": "code",
   "execution_count": null,
   "id": "db193559",
   "metadata": {},
   "outputs": [],
   "source": []
  }
 ],
 "metadata": {
  "kernelspec": {
   "display_name": "Python 3",
   "language": "python",
   "name": "python3"
  },
  "language_info": {
   "codemirror_mode": {
    "name": "ipython",
    "version": 3
   },
   "file_extension": ".py",
   "mimetype": "text/x-python",
   "name": "python",
   "nbconvert_exporter": "python",
   "pygments_lexer": "ipython3",
   "version": "3.8.8"
  }
 },
 "nbformat": 4,
 "nbformat_minor": 5
}
