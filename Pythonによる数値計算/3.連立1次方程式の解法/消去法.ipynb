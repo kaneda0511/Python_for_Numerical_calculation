{
 "cells": [
  {
   "cell_type": "markdown",
   "id": "2ff0f523",
   "metadata": {},
   "source": [
    "## ガウスの消去法"
   ]
  },
  {
   "cell_type": "code",
   "execution_count": 3,
   "id": "60c45394",
   "metadata": {},
   "outputs": [
    {
     "name": "stdout",
     "output_type": "stream",
     "text": [
      "[-0.0715019  2.0692418  5.4956509 11.0093827]\n"
     ]
    }
   ],
   "source": [
    "import numpy as np\n",
    "\n",
    "N = 4\n",
    "\n",
    "A = np.zeros((N+1,N+1))\n",
    "A[1][1]=9.0; A[1][2]=2.0;  A[1][3]=1.0;  A[1][4]=1.0\n",
    "A[2][1]=2.0; A[2][2]=8.0;  A[2][3]=-2.0; A[2][4]=1.0\n",
    "A[3][1]=-1.0;A[3][2]=-2.0; A[3][3]=7.0;  A[3][4]=-2.0\n",
    "A[4][1]=1.0; A[4][2]=-1.0; A[4][3]=-2.0; A[4][4]=6.0\n",
    "\n",
    "B = np.zeros(N+1)\n",
    "B[1]=20;B[2]=16;B[3]=8;B[4]=17\n",
    "\n",
    "X = np.zeros(N+1)\n",
    "M = np.zeros((N+1,N+1))\n",
    "\n",
    "for l in range(1,N+1):\n",
    "    Amax=0.0\n",
    "    for i in range(l,N+1):\n",
    "        if abs(A[i][l])>Amax:\n",
    "            Amax=A[i][l]\n",
    "            imax=i\n",
    "            \n",
    "        for m in range(l,N+1):\n",
    "            Atmp=A[imax][m]\n",
    "            A[imax][m]=A[l][m]\n",
    "            A[l][m]=Atmp\n",
    "        \n",
    "        Btmp=B[imax]\n",
    "        B[imax]=B[l]\n",
    "        B[l]=Btmp\n",
    "                \n",
    "        for j in range(l+1,N+1):\n",
    "            M[j][l]=A[j][l]/A[l][l]\n",
    "            for k in range(l+1,N+1):\n",
    "                A[j][k]=A[j][k]-M[j][l]*A[l][k]\n",
    "            B[j]=B[j]-M[j][l]*B[l]\n",
    "            \n",
    "X[N]=B[N]/A[N][N]        \n",
    "    \n",
    "for j in range(N-1,0,-1):\n",
    "    sum=0.0\n",
    "    for k in range(j+1,N+1):\n",
    "        if k <= N:\n",
    "            sum = sum+A[j][k]*X[k]\n",
    "        X[j]=(B[j]-sum)/A[j][j]\n",
    "            \n",
    "np.set_printoptions(precision=7, floatmode=\"fixed\", suppress=True)\n",
    "print(X[1:N+1])"
   ]
  },
  {
   "cell_type": "code",
   "execution_count": null,
   "id": "519b289a",
   "metadata": {},
   "outputs": [],
   "source": []
  }
 ],
 "metadata": {
  "kernelspec": {
   "display_name": "Python 3",
   "language": "python",
   "name": "python3"
  },
  "language_info": {
   "codemirror_mode": {
    "name": "ipython",
    "version": 3
   },
   "file_extension": ".py",
   "mimetype": "text/x-python",
   "name": "python",
   "nbconvert_exporter": "python",
   "pygments_lexer": "ipython3",
   "version": "3.8.8"
  }
 },
 "nbformat": 4,
 "nbformat_minor": 5
}
