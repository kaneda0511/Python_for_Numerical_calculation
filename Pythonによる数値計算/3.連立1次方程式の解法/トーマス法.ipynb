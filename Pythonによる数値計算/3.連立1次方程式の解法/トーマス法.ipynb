{
 "cells": [
  {
   "cell_type": "markdown",
   "id": "f95b14da",
   "metadata": {},
   "source": [
    "## トーマス法\n",
    "\n",
    "トーマス法とは端的に言うと連立一次方程式に３項方程式と呼ばれる形において\n",
    "\n",
    "ガウスの消去法を用いる手法。"
   ]
  },
  {
   "cell_type": "markdown",
   "id": "9c1f260f",
   "metadata": {},
   "source": [
    "### ３項方程式を解くアルゴリズム（トーマス法）\n",
    "\n",
    "１）G[1]=B[1],S[1]=D[1]とおく\n",
    "\n",
    "２）i=2,3,...,nの順にG[i],S[i]を求めていく\n",
    "\n",
    "３）このときX[N]=S[N]/G[N]\n",
    "\n",
    "４）次に、i=n-1.n-2,...,1の順に計算し、X[i]を求める"
   ]
  },
  {
   "cell_type": "code",
   "execution_count": 2,
   "id": "8a935ee8",
   "metadata": {},
   "outputs": [
    {
     "name": "stdout",
     "output_type": "stream",
     "text": [
      "[0.5 0.0 1.5 0.0 2.5]\n"
     ]
    }
   ],
   "source": [
    "import numpy as np\n",
    "\n",
    "#元数\n",
    "N=5\n",
    "\n",
    "#問題設定\n",
    "A=np.zeros(N+1)\n",
    "B=np.zeros(N+1)\n",
    "C=np.zeros(N+1)\n",
    "D=np.zeros(N+1)\n",
    "A[1]=0; A[2]=1; A[3]=1; A[4]=1; A[5]=1\n",
    "B[1]=2; B[2]=2; B[3]=2; B[4]=2; B[5]=2\n",
    "C[1]=1; C[2]=1; C[3]=1; C[4]=1; C[5]=1\n",
    "D[1]=1; D[2]=2; D[3]=3; D[4]=4; D[5]=5\n",
    "\n",
    "G=np.zeros(N+1)\n",
    "S=np.zeros(N+1)\n",
    "X=np.zeros(N+1)\n",
    "\n",
    "#アルゴリズム１\n",
    "G[1]=B[1]\n",
    "S[1]=D[1]\n",
    "\n",
    "#アルゴリズム２\n",
    "for i in range(2,N+1):\n",
    "    G[i]=B[i]-A[i]*C[i-1]/G[i-1]\n",
    "    S[i]=D[i]-A[i]*S[i-1]/G[i-1]\n",
    "\n",
    "#アルゴリズム３\n",
    "X[N]=S[N]/G[N]\n",
    "\n",
    "#アルゴリズム４\n",
    "for i in range(N-1,0,-1):\n",
    "    X[i]=(S[i]-C[i]*X[i+1])/G[i]\n",
    "    \n",
    "np.set_printoptions(precision=1,floatmode=\"fixed\",suppress=True)\n",
    "print(X[1:N+1])"
   ]
  },
  {
   "cell_type": "code",
   "execution_count": null,
   "id": "cc6b601b",
   "metadata": {},
   "outputs": [],
   "source": []
  },
  {
   "cell_type": "code",
   "execution_count": null,
   "id": "32a81a2e",
   "metadata": {},
   "outputs": [],
   "source": []
  }
 ],
 "metadata": {
  "kernelspec": {
   "display_name": "Python 3",
   "language": "python",
   "name": "python3"
  },
  "language_info": {
   "codemirror_mode": {
    "name": "ipython",
    "version": 3
   },
   "file_extension": ".py",
   "mimetype": "text/x-python",
   "name": "python",
   "nbconvert_exporter": "python",
   "pygments_lexer": "ipython3",
   "version": "3.8.8"
  }
 },
 "nbformat": 4,
 "nbformat_minor": 5
}
