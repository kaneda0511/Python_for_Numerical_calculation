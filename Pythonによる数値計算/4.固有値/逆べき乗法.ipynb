{
 "cells": [
  {
   "cell_type": "markdown",
   "id": "e66171f5",
   "metadata": {},
   "source": [
    "## 逆べき乗法\n",
    "\n",
    "べき乗法とは逆で行列Aの最小固有値を算出する"
   ]
  },
  {
   "cell_type": "markdown",
   "id": "892aff4c",
   "metadata": {},
   "source": [
    "### 逆べき乗法のアルゴリズム\n",
    "１）A,x(0)を入力する\n",
    "\n",
    "２）AをLU分解する\n",
    "\n",
    "３）k=0,1,2,...に対して次の操作を行う\n",
    "\n",
    "    a)連立一次方程式LUy(k)=x(k)を解く\n",
    "    b)λ=(y(k),x(k))/(y(k),y(k)) → べき乗法と逆\n",
    "    c)x(k+1)=y(k)/|y(k)|\n",
    "    \n",
    "４）λが収束すれば反復を終了する"
   ]
  },
  {
   "cell_type": "code",
   "execution_count": 59,
   "id": "cbe22c88",
   "metadata": {},
   "outputs": [
    {
     "name": "stdout",
     "output_type": "stream",
     "text": [
      "Upper triangular matrix\n",
      " 11.000000   7.000000  -5.000000\n",
      "  0.000000  10.000000  -1.000000\n",
      "  0.000000   0.000000   4.581818\n",
      "\n",
      "Lower triangular matrix\n",
      "  1.000000   0.000000   0.000000\n",
      "  0.000000   1.000000   0.000000\n",
      "  0.181818   0.672727   1.000000\n",
      "\n",
      "k=  1 lambda= 13.200000\n",
      "k=  2 lambda=  1.671832\n",
      "k=  3 lambda=  3.189740\n",
      "k=  4 lambda=  4.622455\n",
      "k=  5 lambda=  5.362297\n",
      "k=  6 lambda=  5.795370\n",
      "k=  7 lambda=  6.075349\n",
      "k=  8 lambda=  6.269290\n",
      "k=  9 lambda=  6.410398\n",
      "k= 10 lambda=  6.516843\n",
      "k= 11 lambda=  6.599369\n",
      "k= 12 lambda=  6.664721\n",
      "k= 13 lambda=  6.717349\n",
      "k= 14 lambda=  6.760302\n",
      "k= 15 lambda=  6.795745\n",
      "k= 16 lambda=  6.825253\n",
      "k= 17 lambda=  6.850003\n",
      "k= 18 lambda=  6.870890\n",
      "k= 19 lambda=  6.888610\n",
      "k= 20 lambda=  6.903708\n",
      "k= 21 lambda=  6.916620\n",
      "k= 22 lambda=  6.927698\n",
      "k= 23 lambda=  6.937227\n",
      "k= 24 lambda=  6.945443\n",
      "k= 25 lambda=  6.952541\n",
      "k= 26 lambda=  6.958684\n",
      "k= 27 lambda=  6.964007\n",
      "k= 28 lambda=  6.968627\n",
      "k= 29 lambda=  6.972639\n",
      "k= 30 lambda=  6.976129\n",
      "k= 31 lambda=  6.979165\n",
      "k= 32 lambda=  6.981809\n",
      "k= 33 lambda=  6.984113\n",
      "k= 34 lambda=  6.986122\n",
      "k= 35 lambda=  6.987875\n",
      "k= 36 lambda=  6.989404\n",
      "k= 37 lambda=  6.990738\n",
      "k= 38 lambda=  6.991904\n",
      "k= 39 lambda=  6.992922\n",
      "k= 40 lambda=  6.993811\n",
      "k= 41 lambda=  6.994588\n",
      "k= 42 lambda=  6.995267\n",
      "k= 43 lambda=  6.995861\n",
      "k= 44 lambda=  6.996380\n",
      "k= 45 lambda=  6.996833\n",
      "k= 46 lambda=  6.997230\n",
      "k= 47 lambda=  6.997577\n",
      "k= 48 lambda=  6.997880\n",
      "k= 49 lambda=  6.998146\n",
      "k= 50 lambda=  6.998378\n",
      "k= 51 lambda=  6.998581\n",
      "k= 52 lambda=  6.998758\n",
      "k= 53 lambda=  6.998914\n",
      "k= 54 lambda=  6.999050\n",
      "k= 55 lambda=  6.999169\n",
      "k= 56 lambda=  6.999272\n",
      "k= 57 lambda=  6.999363\n",
      "k= 58 lambda=  6.999443\n",
      "k= 59 lambda=  6.999513\n",
      "k= 60 lambda=  6.999574\n",
      "k= 61 lambda=  6.999627\n",
      "k= 62 lambda=  6.999674\n",
      "k= 63 lambda=  6.999714\n",
      "k= 64 lambda=  6.999750\n",
      "k= 65 lambda=  6.999781\n",
      "k= 66 lambda=  6.999809\n",
      "k= 67 lambda=  6.999833\n",
      "k= 68 lambda=  6.999854\n",
      "k= 69 lambda=  6.999872\n",
      "k= 70 lambda=  6.999888\n",
      "k= 71 lambda=  6.999902\n",
      "k= 72 lambda=  6.999914\n",
      "k= 73 lambda=  6.999925\n",
      "k= 74 lambda=  6.999934\n",
      "k= 75 lambda=  6.999942\n",
      "k= 76 lambda=  6.999950\n",
      "Converged!\n",
      "\n"
     ]
    }
   ],
   "source": [
    "import math\n",
    "\n",
    "#LU分解\n",
    "def LUmatrix(a,U,L,n):\n",
    "    \n",
    "    aa=[[0 for i in range(n)] for j in range(n)]\n",
    "    \n",
    "    #配列Lの初期化\n",
    "    for j in range(n):\n",
    "        for i in range(n):\n",
    "            L[i][j]=0\n",
    "            \n",
    "    for i in range(n):\n",
    "        L[i][i]=1\n",
    "    \n",
    "    for j in range(n):\n",
    "        for i in range(n):\n",
    "            U[i][j]=a[i][j]\n",
    "            \n",
    "    for j in range(n - 1):\n",
    "        for i in range(j + 1,n):\n",
    "            L[i][j]=U[i][j]/U[j][j]\n",
    "            for k in range(j,n):\n",
    "                aa[i][k]=U[i][k]-L[i][j]*U[j][k]\n",
    "        for i in range(j + 1,n):\n",
    "            for k in range(j,n):\n",
    "                U[i][k]=aa[i][k]\n",
    "                    \n",
    "    print(\"Upper triangular matrix\")\n",
    "    for u in U:\n",
    "        print(f'{u[0]:10.6f} {u[1]:10.6f} {u[2]:10.6f}')\n",
    "            \n",
    "    print()\n",
    "    print(\"Lower triangular matrix\")\n",
    "    for l in L:\n",
    "        print(f'{l[0]:10.6f} {l[1]:10.6f} {l[2]:10.6f}')\n",
    "    print()\n",
    "\n",
    "NM=3\n",
    "y= [0] * NM\n",
    "z= [0] * NM\n",
    "U=[[0 for i in range(NM)]for j in range(NM)]\n",
    "L=[[0 for i in range(NM)]for j in range(NM)]\n",
    "EPS=1.0E-6\n",
    "\n",
    "#アルゴリズム手順１\n",
    "n = 3\n",
    "a = [[11.0,7.0,-5.0],[0.0,10.0,-1.0],[2.0,8.0,3.0]]\n",
    "\n",
    "x = [1.0]*n\n",
    "\n",
    "#アルゴリズム手順２\n",
    "LUmatrix(a,U,L,n)\n",
    "\n",
    "#アルゴリズム手順３\n",
    "kmax=200\n",
    "lambda1 = 10000\n",
    "lambda2 = 10000\n",
    "for k in range(1,kmax+1):\n",
    "    gosa=0\n",
    "    \n",
    "    #(a)LUy=xを解く\n",
    "    #まずLz=xを解く\n",
    "    z[0]=x[0]\n",
    "    for j in range(1,n):\n",
    "        sum1=x[j]\n",
    "        for i in range(j):\n",
    "            sum1 -= L[j][i]*z[i]\n",
    "        z[j] = sum1\n",
    "        \n",
    "    #Uy=zを解く\n",
    "    y[n - 1] = z[n - 1]/U[n - 1][n - 1]\n",
    "    for j in range(0,n-1)[::-1]:\n",
    "        sum1=z[j]\n",
    "        for i in range(j+1,n):\n",
    "            sum1-=U[j][i]*y[i]\n",
    "        y[j]=sum1/U[j][j]\n",
    "    \n",
    "    #(b)λ=(y,x)/(y,y)\n",
    "    sum1=0\n",
    "    sum2=0\n",
    "    for i in range(n):\n",
    "        sum1 += y[i]*x[i]\n",
    "        sum2 += y[i]*y[i]\n",
    "    lambda1 = sum1/sum2\n",
    "    \n",
    "    #(c)\n",
    "    for i in range(n):\n",
    "        x[i]=y[i]/math.sqrt(sum2)\n",
    "    \n",
    "    #アルゴリズム手順４\n",
    "    gosa = abs(lambda1 - lambda2)/ abs(lambda2)\n",
    "    lambda2 = lambda1\n",
    "    if gosa < EPS:\n",
    "        print(\"Converged!\")\n",
    "        print()\n",
    "        break\n",
    "    \n",
    "    print(f'k={k:3} lambda={lambda1:10.6f}')\n",
    "    \n",
    "#kmax回繰り返しても収束しなかった場合\n",
    "if k >= kmax:\n",
    "    print(\"\")\n",
    "    print(\"It didn't converged.\")\n",
    "        "
   ]
  },
  {
   "cell_type": "code",
   "execution_count": 63,
   "id": "70109c44",
   "metadata": {},
   "outputs": [
    {
     "data": {
      "text/plain": [
       "[-0.5345284605970135, -0.2672537703951876, -0.5248063387499058]"
      ]
     },
     "execution_count": 63,
     "metadata": {},
     "output_type": "execute_result"
    }
   ],
   "source": [
    "z"
   ]
  },
  {
   "cell_type": "code",
   "execution_count": 64,
   "id": "3a733789",
   "metadata": {},
   "outputs": [
    {
     "data": {
      "text/plain": [
       "[[11.0, 7.0, -5.0], [0.0, 10.0, -1.0], [2.0, 8.0, 3.0]]"
      ]
     },
     "execution_count": 64,
     "metadata": {},
     "output_type": "execute_result"
    }
   ],
   "source": [
    "a"
   ]
  },
  {
   "cell_type": "code",
   "execution_count": 65,
   "id": "7b9d4693",
   "metadata": {},
   "outputs": [
    {
     "data": {
      "text/plain": [
       "[[11.0, 7.0, -5.0], [0.0, 10.0, -1.0], [0.0, 0.0, 4.581818181818182]]"
      ]
     },
     "execution_count": 65,
     "metadata": {},
     "output_type": "execute_result"
    }
   ],
   "source": [
    "U"
   ]
  },
  {
   "cell_type": "code",
   "execution_count": 66,
   "id": "09cce593",
   "metadata": {},
   "outputs": [
    {
     "data": {
      "text/plain": [
       "[[1, 0, 0], [0.0, 1, 0], [0.18181818181818182, 0.6727272727272727, 1]]"
      ]
     },
     "execution_count": 66,
     "metadata": {},
     "output_type": "execute_result"
    }
   ],
   "source": [
    "L"
   ]
  },
  {
   "cell_type": "code",
   "execution_count": 67,
   "id": "dc610e0b",
   "metadata": {},
   "outputs": [
    {
     "data": {
      "text/plain": [
       "[-0.07636158228249966, -0.03817948363921909, -0.11454106599700324]"
      ]
     },
     "execution_count": 67,
     "metadata": {},
     "output_type": "execute_result"
    }
   ],
   "source": [
    "y"
   ]
  },
  {
   "cell_type": "code",
   "execution_count": null,
   "id": "67afffa3",
   "metadata": {},
   "outputs": [],
   "source": []
  }
 ],
 "metadata": {
  "kernelspec": {
   "display_name": "Python 3",
   "language": "python",
   "name": "python3"
  },
  "language_info": {
   "codemirror_mode": {
    "name": "ipython",
    "version": 3
   },
   "file_extension": ".py",
   "mimetype": "text/x-python",
   "name": "python",
   "nbconvert_exporter": "python",
   "pygments_lexer": "ipython3",
   "version": "3.8.8"
  }
 },
 "nbformat": 4,
 "nbformat_minor": 5
}
