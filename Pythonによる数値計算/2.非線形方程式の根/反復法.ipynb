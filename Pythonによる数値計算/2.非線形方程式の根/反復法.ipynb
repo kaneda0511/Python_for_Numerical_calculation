{
 "cells": [
  {
   "cell_type": "markdown",
   "id": "b3a75b8a",
   "metadata": {},
   "source": [
    "## 反復法"
   ]
  },
  {
   "cell_type": "markdown",
   "id": "28055f32",
   "metadata": {},
   "source": [
    "通常では求めることが困難な解を近似解として今回のように求める手法のことを数値計算と呼ばれる\n",
    "また、求めることが困難な関数の形を非線型方程式と呼ばれる"
   ]
  },
  {
   "cell_type": "markdown",
   "id": "1b6f5041",
   "metadata": {},
   "source": [
    "反復法のアルゴリズム\n",
    "\n",
    "１）初期値x0を適当に決める\n",
    "\n",
    "２）y0 ＝F (x0)を計算する\n",
    "\n",
    "３）｜x0-y0｜> ε であればx0 = y0として２）へ"
   ]
  },
  {
   "cell_type": "markdown",
   "id": "8aea3900",
   "metadata": {},
   "source": [
    "EPSは誤差\n",
    "X0を初期値として更新し続ける\n",
    "while文で絶対値｜X1-X0｜で更新し続けるX0がX1より大きい値になったときにループを抜ける\n",
    "今回は関数exp(x) - 5sin(x) + 2.36x　の近似解を求める"
   ]
  },
  {
   "cell_type": "code",
   "execution_count": 1,
   "id": "8361151e",
   "metadata": {},
   "outputs": [
    {
     "name": "stdout",
     "output_type": "stream",
     "text": [
      "0.8709269044195622\n",
      "0.6198803059542377\n",
      "0.416934374745056\n",
      "0.4764712964146044\n",
      "0.44162223936339173\n",
      "0.4604234717805977\n",
      "0.44970673060957966\n",
      "0.4556529900205355\n",
      "0.4523001232877022\n",
      "0.4541743345035898\n",
      "0.4531214528106393\n",
      "0.45371130670414916\n",
      "0.4533803397856859\n",
      "0.45356588401986175\n",
      "0.453461814788767\n",
      "0.4535201698431368\n",
      "0.45348744321603207\n",
      "0.45350579535385926\n",
      "0.45349550351377665\n",
      "0.4535012749997931\n"
     ]
    }
   ],
   "source": [
    "import math\n",
    "def f(x):\n",
    "    return math.exp(x) - 5.0*math.sin(x) + 2.36*x\n",
    "X0 = 1.0\n",
    "EPS = 1e-5\n",
    "X1 = f(X0)\n",
    "print(X1)\n",
    "while abs(X1-X0)>EPS:\n",
    "    X0 = X1\n",
    "    X1 = f(X0)\n",
    "    print(X1)"
   ]
  }
 ],
 "metadata": {
  "kernelspec": {
   "display_name": "Python 3",
   "language": "python",
   "name": "python3"
  },
  "language_info": {
   "codemirror_mode": {
    "name": "ipython",
    "version": 3
   },
   "file_extension": ".py",
   "mimetype": "text/x-python",
   "name": "python",
   "nbconvert_exporter": "python",
   "pygments_lexer": "ipython3",
   "version": "3.8.8"
  }
 },
 "nbformat": 4,
 "nbformat_minor": 5
}
