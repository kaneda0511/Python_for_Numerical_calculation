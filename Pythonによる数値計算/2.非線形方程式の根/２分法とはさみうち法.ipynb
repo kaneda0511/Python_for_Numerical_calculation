{
 "cells": [
  {
   "cell_type": "markdown",
   "id": "20b82f30",
   "metadata": {},
   "source": [
    "二分法は初期値を二つ用意する（a,b）\n",
    "この初期値について関数f(a)f(b)<0となるa,bを選んでくる\n",
    "つまり、a,bはx軸をまたぐような位置に属しているので少なくともa,bの間に解が一つはあることがわかる\n",
    "\n",
    "ここから察するに中間値の定理を用いる\n",
    "a,bの中心（中間値）をcとすると\n",
    "\n",
    "少なくとも\n",
    "    f(a)f(c) < 0 または　f(b)f(c) < 0　となる\n",
    "  \n",
    "それぞれに区間幅（a,b）を設け、それが誤差以内に収まったものを解とする"
   ]
  },
  {
   "cell_type": "markdown",
   "id": "8dc171b6",
   "metadata": {},
   "source": [
    "二分法のアルゴリズム\n",
    "１）f(a)f(b) < 0 となるようなa,b(a < b)を初期値にとる\n",
    "２）c = (a + b) /2　とする\n",
    "３）b - a　があらかじめ指定した誤差より小さければ根をcとする\n",
    "４）f(a)f(c) < 0　ならば、cを新たにbの修正値とみなして２へ戻る\n",
    "５）f(b)f(c) < 0　ならば、cを新たにaの修正値とみなして２へ戻る"
   ]
  },
  {
   "cell_type": "code",
   "execution_count": 5,
   "id": "deac6995",
   "metadata": {},
   "outputs": [
    {
     "name": "stdout",
     "output_type": "stream",
     "text": [
      "1 C = 0.5\n",
      "2 C = 0.75\n",
      "3 C = 0.875\n",
      "4 C = 0.8125\n",
      "5 C = 0.84375\n",
      "6 C = 0.828125\n",
      "7 C = 0.8203125\n",
      "8 C = 0.82421875\n",
      "9 C = 0.822265625\n",
      "10 C = 0.8232421875\n",
      "11 C = 0.82373046875\n",
      "12 C = 0.823974609375\n",
      "13 C = 0.8240966796875\n",
      "14 C = 0.82415771484375\n",
      "15 C = 0.824127197265625\n",
      "16 C = 0.8241424560546875\n",
      "17 C = 0.8241348266601562\n",
      "18 C = 0.8241310119628906\n",
      "19 C = 0.8241329193115234\n",
      "20 C = 0.824131965637207\n",
      "21 C = 0.8241324424743652\n",
      "22 C = 0.8241322040557861\n",
      "23 C = 0.8241323232650757\n",
      "24 C = 0.8241322636604309\n",
      "It converged\n"
     ]
    }
   ],
   "source": [
    "#二分法\n",
    "import math\n",
    "def f(x):\n",
    "    return math.cos(x) - x**2\n",
    "A = 0.0\n",
    "B = 1.0\n",
    "EPS = 1e-7\n",
    "#これ以上繰り返しても収束しない場合は計算を打ち切る\n",
    "IMAX = 50\n",
    "for i in range(IMAX):\n",
    "    C = (A + B)/2\n",
    "    if B - A < EPS:\n",
    "        break\n",
    "    else:\n",
    "        if f(A)*f(C) < 0:\n",
    "            B = C\n",
    "        elif f(B)*f(C) < 0:\n",
    "            A = C\n",
    "    print(i + 1,\"C =\",C) \n",
    "\n",
    "if i+1 > IMAX:\n",
    "    print(\"It did not cnveerged.\")\n",
    "else:\n",
    "    print(\"It converged\")"
   ]
  },
  {
   "cell_type": "code",
   "execution_count": null,
   "id": "5c984868",
   "metadata": {},
   "outputs": [],
   "source": [
    "初期値a,bが見つかることが二分法の前提条件にある\n",
    "見つかれば確実に根が求められるが、一回の手続きで区間幅が半分になるので根を求めるのに時間がかかる"
   ]
  },
  {
   "cell_type": "code",
   "execution_count": null,
   "id": "34ffe8c8",
   "metadata": {},
   "outputs": [],
   "source": []
  },
  {
   "cell_type": "markdown",
   "id": "d1664b52",
   "metadata": {},
   "source": [
    "そこで二分法を変形させてはさみうち法を用いる\n",
    "はさみうち法は\n",
    "二分法の中心cの代わりに、２点(a,f(a))と(b,f(b))を結ぶ直線とx軸との交点をcにとる"
   ]
  },
  {
   "cell_type": "markdown",
   "id": "2bfcec3c",
   "metadata": {},
   "source": [
    "はさみうち法のアルゴリズム\n",
    "１）f(a)f(b) < 0 となるようなa,b(a < b)を初期値にとる\n",
    "２）c = af(b) - bf(a) / f(b) - f(a)\n",
    "３）f(c)があらかじめ指定した誤差より小さければ根をcとする\n",
    "４）f(a)f(c) < 0　ならば、cを新たにbの修正値とみなして２へ戻る\n",
    "５）f(b)f(c) < 0　ならば、cを新たにaの修正値とみなして２へ戻る\n",
    "\n",
    "二分法との違いは２"
   ]
  },
  {
   "cell_type": "code",
   "execution_count": 6,
   "id": "861d2838",
   "metadata": {},
   "outputs": [
    {
     "name": "stdout",
     "output_type": "stream",
     "text": [
      "1 C = 0.6850733573260451\n",
      "2 C = 0.81069364956815\n",
      "3 C = 0.8229316031819935\n",
      "4 C = 0.8240258204057237\n",
      "5 C = 0.8241228736524154\n",
      "6 C = 0.8241314757794914\n",
      "7 C = 0.8241322381640429\n",
      "It converged\n"
     ]
    }
   ],
   "source": [
    "#はさみうち法\n",
    "import math\n",
    "def f(x):\n",
    "    return math.cos(x) - x**2\n",
    "A = 0.0\n",
    "B = 1.0\n",
    "EPS = 1e-7\n",
    "IMAX = 50\n",
    "for i in range(IMAX):\n",
    "    C = (A*f(B)-B*f(A))/(f(B)-f(A))\n",
    "    if abs(f(C))<EPS:\n",
    "        break\n",
    "    else:\n",
    "        if f(A)*f(C) < 0:\n",
    "            B = C\n",
    "        elif f(B)*f(C) < 0:\n",
    "            A = C\n",
    "    print(i + 1,\"C =\",C) \n",
    "\n",
    "if i+1 > IMAX:\n",
    "    print(\"It did not cnveerged.\")\n",
    "else:\n",
    "    print(\"It converged\")"
   ]
  },
  {
   "cell_type": "code",
   "execution_count": null,
   "id": "cdcf6109",
   "metadata": {},
   "outputs": [],
   "source": [
    "はさみうち法は二分法と比べて回数が少ないことがわかる"
   ]
  }
 ],
 "metadata": {
  "kernelspec": {
   "display_name": "Python 3",
   "language": "python",
   "name": "python3"
  },
  "language_info": {
   "codemirror_mode": {
    "name": "ipython",
    "version": 3
   },
   "file_extension": ".py",
   "mimetype": "text/x-python",
   "name": "python",
   "nbconvert_exporter": "python",
   "pygments_lexer": "ipython3",
   "version": "3.8.8"
  }
 },
 "nbformat": 4,
 "nbformat_minor": 5
}
