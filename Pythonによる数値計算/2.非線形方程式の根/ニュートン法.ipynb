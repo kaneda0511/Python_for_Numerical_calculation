{
 "cells": [
  {
   "cell_type": "markdown",
   "id": "2b9910b9",
   "metadata": {},
   "source": [
    "## ニュートン法１\n",
    "\n",
    "任意の点を定めてそこから接線を引き、その接線とx軸との交わった交点をbとする\n",
    "\n",
    "以下それらの試行を繰り返していくことで近似解（実際に求めたいx軸と交わる解）を求めていく"
   ]
  },
  {
   "cell_type": "markdown",
   "id": "e7a5960b",
   "metadata": {},
   "source": [
    "接線の傾きは(f(a)-0)/(a-b)\n",
    "\n",
    "傾きに関してはf'(a)とも表せるので\n",
    "\n",
    "f'(a) = (f(a)-0)/(a-b)\n",
    "\n",
    "変形して b = a - f'(a)/f(a)\n",
    "\n",
    "これは、\n",
    "\n",
    "### x(n+1) = x(n) - f'(x(n)) / f(x(n))\n",
    "\n",
    "## この式の意味としては次の解を求めるには前の解から前の解の傾きと高さの商を引けば良い"
   ]
  },
  {
   "cell_type": "code",
   "execution_count": 1,
   "id": "0c966ac4",
   "metadata": {
    "scrolled": true
   },
   "outputs": [
    {
     "name": "stdout",
     "output_type": "stream",
     "text": [
      "x( 1 )= 0.8382184099047068\n",
      "x( 2 )= 0.8242418682258744\n",
      "x( 3 )= 0.8241323190509289\n",
      "It converged.\n"
     ]
    }
   ],
   "source": [
    "import math\n",
    "def f(x):\n",
    "    return math.cos(x) - x**2\n",
    "def df(x):\n",
    "    return -math.sin(x) - 2.0*x\n",
    "\n",
    "x0 = 1.0\n",
    "EPS = 1e-7\n",
    "IMAX = 50\n",
    "for i in range(IMAX):\n",
    "    x1 = x0 - f(x0)/df(x0)\n",
    "    \n",
    "    if abs(x1-x0) < EPS:\n",
    "        break\n",
    "    else:\n",
    "        x0 = x1\n",
    "    print('x(',i+1,')=',x1)\n",
    "if i+1 > IMAX:\n",
    "    print(\"It did not converged.\")\n",
    "else:\n",
    "    print(\"It converged.\")"
   ]
  },
  {
   "cell_type": "code",
   "execution_count": 2,
   "id": "5e1f73b0",
   "metadata": {},
   "outputs": [
    {
     "name": "stdout",
     "output_type": "stream",
     "text": [
      "x( 1 )= 1.1768092198589286\n",
      "x( 2 )= 1.1815195886972198\n",
      "x( 3 )= 1.1832674036234558\n",
      "x( 4 )= 1.1839325036813573\n",
      "x( 5 )= 1.1841879252889917\n",
      "x( 6 )= 1.1842863560207777\n",
      "x( 7 )= 1.1843243381294322\n",
      "x( 8 )= 1.1843390020084845\n",
      "x( 9 )= 1.1843446644545585\n",
      "x( 10 )= 1.1843468511699289\n",
      "x( 11 )= 1.1843476956573138\n",
      "x( 12 )= 1.184348021793502\n",
      "x( 13 )= 1.1843481477459796\n",
      "It converged.\n"
     ]
    }
   ],
   "source": [
    "import math\n",
    "def f(x):\n",
    "    return math.exp(x) - x**7\n",
    "def df(x):\n",
    "    return -math.exp(x) - 7*x**7\n",
    "\n",
    "x0 = 1.0\n",
    "EPS = 1e-7\n",
    "IMAX = 50\n",
    "for i in range(IMAX):\n",
    "    x1 = x0 - f(x0)/df(x0)\n",
    "    \n",
    "    if abs(x1-x0) < EPS:\n",
    "        break\n",
    "    else:\n",
    "        x0 = x1\n",
    "    print('x(',i+1,')=',x1)\n",
    "if i+1 > IMAX:\n",
    "    print(\"It did not converged.\")\n",
    "else:\n",
    "    print(\"It converged.\")"
   ]
  },
  {
   "cell_type": "code",
   "execution_count": null,
   "id": "fe80bdd1",
   "metadata": {},
   "outputs": [],
   "source": []
  },
  {
   "cell_type": "markdown",
   "id": "2f0f22a9",
   "metadata": {},
   "source": [
    "## ニュートン法２"
   ]
  },
  {
   "cell_type": "markdown",
   "id": "d1155279",
   "metadata": {},
   "source": [
    "ニュートン法２では近似解x(n)のまわりにテイラー展開をする\n",
    "\n",
    "x(n)のまわりにテイラー展開をすると\n",
    "\n",
    "f(x) = f(x(n)) + f'(x(n))(x-x(n)) + 1/2*f''(x(n))(x-x(n))^(2) + ....\n",
    "\n",
    "この方程式は無限項出て来ると考えられる\n",
    "\n",
    "x(n)は近似解なのでx-x(n)は十分に小さな値であると考えることができるので上式の第三項以下を０とすると\n",
    "\n",
    "0 = f(x(n)) + f'(x(n))(x-x(n)) となる\n",
    "\n",
    "これを式変形するとニュートン法に帰着する"
   ]
  },
  {
   "cell_type": "markdown",
   "id": "b9bfeab5",
   "metadata": {},
   "source": [
    "ニュートン法の精度（あるいは収束の速さ）を高めるにはテイラー展開の式においてより高次の項を残して考えれば良い\n",
    "\n",
    "### f''(x(n))を残して式変形して考える方法をベイリー法といい、これは三次の項までを計算する必要がある分、計算速度はニュートン法（二次の項までの計算）より速い"
   ]
  },
  {
   "cell_type": "code",
   "execution_count": null,
   "id": "13b798cd",
   "metadata": {},
   "outputs": [],
   "source": []
  },
  {
   "cell_type": "markdown",
   "id": "34f99919",
   "metadata": {},
   "source": [
    "## 多変数ニュートン法"
   ]
  },
  {
   "cell_type": "markdown",
   "id": "de3ffccc",
   "metadata": {},
   "source": [
    "ニュートン法は未知数の連立方程式にも適応できる\n",
    "\n",
    "この場合は２変数のテイラー展開を考える必要がある\n"
   ]
  },
  {
   "cell_type": "markdown",
   "id": "f2c74309",
   "metadata": {},
   "source": [
    "#### ２変数のニュートン法のアルゴリズム\n",
    "\n",
    "1)出発点x(0)、y(0)を決める\n",
    "\n",
    "2)連立一次元方程式を解いてΔx、Δyを定める\n",
    "\n",
    "3)x(n+1) = x(n) + Δx 、　y(n+1) = y(n) + Δy"
   ]
  },
  {
   "cell_type": "code",
   "execution_count": 1,
   "id": "b83d7c49",
   "metadata": {},
   "outputs": [
    {
     "name": "stdout",
     "output_type": "stream",
     "text": [
      "1 X=1.0000000, Y=0.8414710\n",
      "2 X=0.7566170, Y=0.7099706\n",
      "3 X=0.7396667, Y=0.6741397\n",
      "4 X=0.7390853, Y=0.6736123\n",
      "It converged.\n"
     ]
    }
   ],
   "source": [
    "import math\n",
    "def f(x,y):\n",
    "    return x**2 + y**2 - 1.0\n",
    "\n",
    "def g(x,y):\n",
    "    return math.sin(x) - y\n",
    "\n",
    "def fx(x,y):\n",
    "    return 2.0*x\n",
    "\n",
    "def fy(x,y):\n",
    "    return 2.0*y\n",
    "\n",
    "def gx(x,y):\n",
    "    return math.cos(x)\n",
    "\n",
    "def gy(x,y):\n",
    "    return -1.0\n",
    "\n",
    "x0 = 1.0\n",
    "y0 = 0\n",
    "EPS = 1e-7\n",
    "IMAX = 50\n",
    "\n",
    "# J: ヤコビアン\n",
    "for i in range(IMAX):\n",
    "    J = fx(x0,y0)*gy(x0,y0) - fy(x0,y0)*gx(x0,y0)\n",
    "    DX = ( gy(x0,y0)*(-f(x0,y0)) - fy(x0,y0)*(-g(x0,y0)))/J\n",
    "    DY = (-gx(x0,y0)*(-f(x0,y0)) + fx(x0,y0)*(-g(x0,y0)))/J\n",
    "    \n",
    "    x1 = x0 + DX\n",
    "    y1 = y0 + DY\n",
    "    \n",
    "    if f(x1,y1)<EPS and g(x1,y1)<EPS:\n",
    "        break\n",
    "    else:\n",
    "        x0 = x1\n",
    "        y0 = y1\n",
    "    print(i+1,'X={0:.7f},'.format(x1),'Y={0:.7f}'.format(y1))\n",
    "if i+1 > IMAX:\n",
    "    print(\"It did not converged.\")\n",
    "else:\n",
    "    print(\"It converged.\")\n"
   ]
  }
 ],
 "metadata": {
  "kernelspec": {
   "display_name": "Python 3",
   "language": "python",
   "name": "python3"
  },
  "language_info": {
   "codemirror_mode": {
    "name": "ipython",
    "version": 3
   },
   "file_extension": ".py",
   "mimetype": "text/x-python",
   "name": "python",
   "nbconvert_exporter": "python",
   "pygments_lexer": "ipython3",
   "version": "3.8.8"
  }
 },
 "nbformat": 4,
 "nbformat_minor": 5
}
