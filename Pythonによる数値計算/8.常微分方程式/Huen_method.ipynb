{
 "cells": [
  {
   "cell_type": "code",
   "execution_count": 1,
   "metadata": {},
   "outputs": [
    {
     "name": "stdout",
     "output_type": "stream",
     "text": [
      " t(n)   calculated        exact          diff      \n",
      "  0.00       0.500000       0.500000       0.000000\n",
      "  0.10       0.575031       0.575021       0.000010\n",
      "  0.20       0.650187       0.650166       0.000021\n",
      "  0.30       0.725589       0.725557       0.000032\n",
      "  0.40       0.801355       0.801312       0.000042\n",
      "  0.50       0.877593       0.877541       0.000053\n",
      "  0.60       0.954407       0.954344       0.000063\n",
      "  0.70       1.031886       1.031812       0.000074\n",
      "  0.80       1.110110       1.110026       0.000084\n",
      "  0.90       1.189145       1.189050       0.000094\n",
      "  1.00       1.269045       1.268941       0.000104\n",
      "  1.10       1.349853       1.349740       0.000113\n",
      "  1.20       1.431597       1.431475       0.000121\n",
      "  1.30       1.514294       1.514165       0.000129\n",
      "  1.40       1.597952       1.597816       0.000136\n",
      "  1.50       1.682568       1.682426       0.000142\n",
      "  1.60       1.768129       1.767982       0.000147\n",
      "  1.70       1.854617       1.854465       0.000151\n",
      "  1.80       1.942005       1.941851       0.000154\n",
      "  1.90       2.030265       2.030108       0.000157\n",
      "  2.00       2.119361       2.119203       0.000158\n"
     ]
    }
   ],
   "source": [
    "import math\n",
    "\n",
    "def f(t,x):\n",
    "    return (t**2 + t + 1.0) - (2.0*t + 1.0) * x + x ** 2\n",
    "\n",
    "def exact(t):\n",
    "    return (t*math.exp(t)+t+1.0)/(math.exp(t)+1.0)\n",
    "\n",
    "NM = 20\n",
    "t = [0]*(NM+1)\n",
    "x = [0]*(NM+1)\n",
    "m = 20\n",
    "h = 0.1\n",
    "t[0] = 0.0\n",
    "x[0] = 0.5 #初期条件\n",
    "\n",
    "for n in range(m):\n",
    "    t[n+1] = t[n] + h\n",
    "    k1 = h*f(t[n],x[n])\n",
    "    k2 = h*f(t[n]+h,x[n]+k1)\n",
    "    x[n+1] = x[n] + (k1+k2)/2\n",
    "\n",
    "\n",
    "print('{:^6}{:^15}{:^15}{:^15}'.format('t(n)','calculated','exact','diff'))\n",
    "for n in range(m+1):\n",
    "    print(f'{t[n]:6.2f}{x[n]:15.6f}{exact(t[n]):15.6f}{x[n]-exact(t[n]):15.6f}')"
   ]
  },
  {
   "cell_type": "code",
   "execution_count": null,
   "metadata": {},
   "outputs": [],
   "source": []
  }
 ],
 "metadata": {
  "interpreter": {
   "hash": "b0fa6594d8f4cbf19f97940f81e996739fb7646882a419484c72d19e05852a7e"
  },
  "kernelspec": {
   "display_name": "Python 3.9.9 64-bit",
   "name": "python3"
  },
  "language_info": {
   "codemirror_mode": {
    "name": "ipython",
    "version": 3
   },
   "file_extension": ".py",
   "mimetype": "text/x-python",
   "name": "python",
   "nbconvert_exporter": "python",
   "pygments_lexer": "ipython3",
   "version": "3.9.9"
  },
  "orig_nbformat": 4
 },
 "nbformat": 4,
 "nbformat_minor": 2
}
