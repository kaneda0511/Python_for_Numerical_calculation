{
 "cells": [
  {
   "cell_type": "markdown",
   "metadata": {},
   "source": [
    "## 丸め誤差\n",
    "有効桁数の2進数で実数を表現することにより生じる誤差"
   ]
  },
  {
   "cell_type": "markdown",
   "metadata": {},
   "source": [
    "#### 0.1を100万回加え合わせることを考える。\n",
    "#### 加算結果は10万よりも少し大きい値になる。\n",
    "#### １０進数の0.1は2進数に変換する過程で丸めにより0.1よりも僅かに大きな値となるため、このような結果が生じる。"
   ]
  },
  {
   "cell_type": "code",
   "execution_count": 9,
   "metadata": {},
   "outputs": [
    {
     "name": "stdout",
     "output_type": "stream",
     "text": [
      "0.1\n",
      "計算結果 :  100000.00000133288\n",
      "真の値 :  100000.0\n",
      "数値誤差 :  1.3328826753422618e-06\n"
     ]
    }
   ],
   "source": [
    "#　10進数の0.1の値\n",
    "print(0.1)\n",
    "\n",
    "#　0.1を1000000回加える\n",
    "x = 0.0\n",
    "for i in range(1000000):\n",
    "    x += 0.1\n",
    "print(\"計算結果 : \",x)\n",
    "res = 0.1 * 1000000\n",
    "print(\"真の値 : \",res)\n",
    "print(\"数値誤差 : \",x-res)"
   ]
  },
  {
   "cell_type": "markdown",
   "metadata": {},
   "source": [
    "0.1を100万回加えた結果が10万になっていないことがわかる（丸め誤差の影響）"
   ]
  },
  {
   "cell_type": "markdown",
   "metadata": {},
   "source": [
    "### 丸め誤差は有限桁数の2進数を数値表現として用いるコンピュータで実数を表現する限りは不可避の誤差である。\n",
    "### したがって上記のように計算過程において丸め誤差が大きく影響を及ぼすようなアルゴリズムは採用するべきではない。"
   ]
  },
  {
   "cell_type": "code",
   "execution_count": 8,
   "metadata": {},
   "outputs": [
    {
     "name": "stdout",
     "output_type": "stream",
     "text": [
      "0.2\n",
      "計算結果 :  200000.00000266577\n",
      "真の値 :  200000.0\n",
      "数値誤差 :  2.6657653506845236e-06\n"
     ]
    }
   ],
   "source": [
    "#　10進数の0.2の値\n",
    "print(0.2)\n",
    "#　0.2を1000000回加える\n",
    "x = 0.0\n",
    "for i in range(1000000):\n",
    "    x += 0.2\n",
    "print(\"計算結果 : \",x)\n",
    "res = 0.2*1000000\n",
    "print(\"真の値 : \",res)\n",
    "print(\"数値誤差 : \",x-res)"
   ]
  },
  {
   "cell_type": "markdown",
   "metadata": {},
   "source": [
    "### 誤差が0.1の時よりも大きくなっていることがわかる"
   ]
  },
  {
   "cell_type": "code",
   "execution_count": 15,
   "metadata": {},
   "outputs": [
    {
     "name": "stdout",
     "output_type": "stream",
     "text": [
      "加えた数 :  0.001\n",
      "加えた回数 :  10000000\n",
      "10000.000001578517\n",
      "真の値 :  10000.0\n",
      "数値誤差 :  1.5785171854076907e-06\n"
     ]
    }
   ],
   "source": [
    "#　加える数値の入力\n",
    "a = float(input())\n",
    "\n",
    "#　加えた回数の入力\n",
    "n = int(input())\n",
    "\n",
    "print(\"加えた数 : \",a)\n",
    "print(\"加えた回数 : \",n)\n",
    "\n",
    "x = 0.0\n",
    "for i in range(n):\n",
    "    x += a\n",
    "print(x)\n",
    "res = a * n\n",
    "print(\"真の値 : \",res)\n",
    "print(\"数値誤差 : \",x-res)"
   ]
  },
  {
   "cell_type": "code",
   "execution_count": null,
   "metadata": {},
   "outputs": [],
   "source": []
  }
 ],
 "metadata": {
  "interpreter": {
   "hash": "38a9d234814b4a76450ff8f45502c93f8b25cfa1806eaf223240433707b634f9"
  },
  "kernelspec": {
   "display_name": "Python 3.8.8 64-bit ('base': conda)",
   "name": "python3"
  },
  "language_info": {
   "codemirror_mode": {
    "name": "ipython",
    "version": 3
   },
   "file_extension": ".py",
   "mimetype": "text/x-python",
   "name": "python",
   "nbconvert_exporter": "python",
   "pygments_lexer": "ipython3",
   "version": "3.8.8"
  },
  "orig_nbformat": 4
 },
 "nbformat": 4,
 "nbformat_minor": 2
}
