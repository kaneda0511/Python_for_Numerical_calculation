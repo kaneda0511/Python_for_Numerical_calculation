{
 "cells": [
  {
   "cell_type": "markdown",
   "metadata": {},
   "source": [
    "## 情報落ち\n",
    "絶対値の大きく異なる数値同士の演算において、絶対値の小さな数値が演算結果に反映されないために生じる誤差\n",
    "\n",
    "### 10^10に10^(-8)を繰り返し加える計算を考える。\n",
    "### 10000000回加算すると10^(10) + 10^(-8)*10^(7) = 10^(10) + 10^(-1)　となるはずである。"
   ]
  },
  {
   "cell_type": "code",
   "execution_count": 4,
   "metadata": {},
   "outputs": [
    {
     "name": "stdout",
     "output_type": "stream",
     "text": [
      "10000000000.0\n"
     ]
    }
   ],
   "source": [
    "#　初期値設定\n",
    "x = 1e10\n",
    "y = 1e-8\n",
    "temp = 0.0\n",
    "\n",
    "for i in range(10000000):\n",
    "    x += y\n",
    "print(x)"
   ]
  },
  {
   "cell_type": "code",
   "execution_count": 5,
   "metadata": {},
   "outputs": [
    {
     "name": "stdout",
     "output_type": "stream",
     "text": [
      "10000000000.1\n"
     ]
    }
   ],
   "source": [
    "#　初期値設定\n",
    "x = 1e10\n",
    "y = 1e-8\n",
    "temp = 0.0\n",
    "\n",
    "#　先にyを別の変数に加える\n",
    "for i in range(10000000):\n",
    "    temp += y\n",
    "\n",
    "#　10000000回加えた結果が格納された変数とxを足す\n",
    "x+=temp\n",
    "\n",
    "print(x)"
   ]
  },
  {
   "cell_type": "markdown",
   "metadata": {},
   "source": [
    "### 絶対値の小さな値の数値を絶対値の大きな数値に先に加えると、加算の結果が反映されない。\n",
    "### 初めに絶対値の小さな値の数値同士を加えてから、後で絶対値の大きな数値に加えると、加算結果が最終結果に反映される"
   ]
  },
  {
   "cell_type": "markdown",
   "metadata": {},
   "source": []
  }
 ],
 "metadata": {
  "interpreter": {
   "hash": "38a9d234814b4a76450ff8f45502c93f8b25cfa1806eaf223240433707b634f9"
  },
  "kernelspec": {
   "display_name": "Python 3.8.8 64-bit ('base': conda)",
   "name": "python3"
  },
  "language_info": {
   "codemirror_mode": {
    "name": "ipython",
    "version": 3
   },
   "file_extension": ".py",
   "mimetype": "text/x-python",
   "name": "python",
   "nbconvert_exporter": "python",
   "pygments_lexer": "ipython3",
   "version": "3.8.8"
  },
  "orig_nbformat": 4
 },
 "nbformat": 4,
 "nbformat_minor": 2
}
