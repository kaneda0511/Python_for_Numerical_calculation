{
 "cells": [
  {
   "cell_type": "markdown",
   "metadata": {},
   "source": [
    "## fractionsモジュールについて\n",
    "分数計算において、少数表現による丸め誤差を生じさせずに、分数として計算を進めることができる。"
   ]
  },
  {
   "cell_type": "code",
   "execution_count": 4,
   "metadata": {},
   "outputs": [
    {
     "name": "stdout",
     "output_type": "stream",
     "text": [
      "1/2 1/5\n",
      "10/21\n",
      "15/7\n"
     ]
    }
   ],
   "source": [
    "from fractions import *\n",
    "\n",
    "#　表形式の確認\n",
    "print(Fraction(5,10),Fraction(3,15))\n",
    "\n",
    "#　加算\n",
    "print(Fraction(1,3) + Fraction(1,7))\n",
    "\n",
    "#　積の計算\n",
    "print(Fraction(5,3) * Fraction(6,7) * Fraction(3,2))"
   ]
  },
  {
   "cell_type": "code",
   "execution_count": null,
   "metadata": {},
   "outputs": [],
   "source": []
  }
 ],
 "metadata": {
  "interpreter": {
   "hash": "38a9d234814b4a76450ff8f45502c93f8b25cfa1806eaf223240433707b634f9"
  },
  "kernelspec": {
   "display_name": "Python 3.8.8 64-bit ('base': conda)",
   "name": "python3"
  },
  "language_info": {
   "codemirror_mode": {
    "name": "ipython",
    "version": 3
   },
   "file_extension": ".py",
   "mimetype": "text/x-python",
   "name": "python",
   "nbconvert_exporter": "python",
   "pygments_lexer": "ipython3",
   "version": "3.8.8"
  },
  "orig_nbformat": 4
 },
 "nbformat": 4,
 "nbformat_minor": 2
}
