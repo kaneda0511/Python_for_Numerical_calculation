{
 "cells": [
  {
   "cell_type": "markdown",
   "metadata": {},
   "source": [
    "## 桁落ち誤差\n",
    "値のほぼ等しい数値同士を減算をするなどして有効数字が失われることによって生じる誤差"
   ]
  },
  {
   "cell_type": "markdown",
   "metadata": {},
   "source": [
    "### 1e15は10の15乗を意味する。\n",
    "### 分子を有理化せずに計算する通常の計算方法では、誤差が非常に大きくなる。\n",
    "### 以下にその結果を記載する。"
   ]
  },
  {
   "cell_type": "code",
   "execution_count": 2,
   "metadata": {},
   "outputs": [
    {
     "name": "stdout",
     "output_type": "stream",
     "text": [
      "x=1e15の場合\n",
      "通常の計算方法 :  1.862645149230957e-08\n",
      "分子を有理化した計算方法 :  1.5811388300841893e-08\n"
     ]
    }
   ],
   "source": [
    "import math\n",
    "x = 1e15\n",
    "print(\"x=1e15の場合\")\n",
    "res1 = math.sqrt(x+1) - math.sqrt(x)          #　通常の計算方法\n",
    "res2 = 1 / (math.sqrt(x+1) + math.sqrt(x) )   #　分子を有理化した計算方法\n",
    "print(\"通常の計算方法 : \", res1)\n",
    "print(\"分子を有理化した計算方法 : \",res2)"
   ]
  },
  {
   "cell_type": "code",
   "execution_count": 3,
   "metadata": {},
   "outputs": [
    {
     "name": "stdout",
     "output_type": "stream",
     "text": [
      "x=1e16の場合\n",
      "通常の計算方法 :  0.0\n",
      "分子を有理化した計算方法 :  5e-09\n"
     ]
    }
   ],
   "source": [
    "import math\n",
    "x = 1e16\n",
    "print(\"x=1e16の場合\")\n",
    "res1 = math.sqrt(x+1) - math.sqrt(x)          #　通常の計算方法\n",
    "res2 = 1 / (math.sqrt(x+1) + math.sqrt(x) )   #　分子を有理化した計算方法\n",
    "print(\"通常の計算方法 : \", res1)\n",
    "print(\"分子を有理化した計算方法 : \",res2)"
   ]
  },
  {
   "cell_type": "markdown",
   "metadata": {},
   "source": [
    "### このように計算途中で桁落ちが生じる可能性があると、与えたデータによっては最終的な計算結果に大きな影響を与える場合がある。桁落ちによる誤差は発見が難しい場合もあるので値のほぼ等しい数値同士の減算は避けるべきである。"
   ]
  }
 ],
 "metadata": {
  "interpreter": {
   "hash": "38a9d234814b4a76450ff8f45502c93f8b25cfa1806eaf223240433707b634f9"
  },
  "kernelspec": {
   "display_name": "Python 3.8.8 64-bit ('base': conda)",
   "name": "python3"
  },
  "language_info": {
   "codemirror_mode": {
    "name": "ipython",
    "version": 3
   },
   "file_extension": ".py",
   "mimetype": "text/x-python",
   "name": "python",
   "nbconvert_exporter": "python",
   "pygments_lexer": "ipython3",
   "version": "3.8.8"
  },
  "orig_nbformat": 4
 },
 "nbformat": 4,
 "nbformat_minor": 2
}
