{
 "cells": [
  {
   "cell_type": "markdown",
   "metadata": {},
   "source": [
    "# 章末問題"
   ]
  },
  {
   "cell_type": "markdown",
   "metadata": {},
   "source": [
    "## （１）pythonモジュールを利用すると、数値計算やシミュレーションのアルゴリズムを知らなくても、プログラムを構成することが可能である。それにもかかわらず、なぜそうしたアルゴリズムを学ぶ必要があるのか？"
   ]
  },
  {
   "cell_type": "markdown",
   "metadata": {},
   "source": [
    "## 数値計算やシミュレーションを行うためには、対象とする系の性質を理解した上で、適切な計算手法を選択してプログラムを構築する必要がある。そのためには、対象システムの性質を理解するとともに、数値計算やシミュレーションの原理とアルゴリズムをよく理解しなければならない。これらの理解が不十分のままにモジュールを利用してプログラムを構成しても、妥当な結果を得ることは困難であるから。"
   ]
  },
  {
   "cell_type": "markdown",
   "metadata": {},
   "source": [
    "## （２）二次方程式のax^(2) + bx + c = 0　の解の公式をこのまま使用すると桁落ちを生じる危険性がある。そこで桁落ちに配慮した二次方程式解法プログラムを作成せよ。"
   ]
  },
  {
   "cell_type": "code",
   "execution_count": 7,
   "metadata": {},
   "outputs": [
    {
     "name": "stdout",
     "output_type": "stream",
     "text": [
      "解1 2.618033988749895\n",
      "解2: 0.3819660112501051\n"
     ]
    }
   ],
   "source": [
    "import math\n",
    "a,b,c = map(int,input().split())\n",
    "if b>0:\n",
    "    x1 = (-b-math.sqrt(b**2-4*a*c))/2*a\n",
    "    #　有理化した式\n",
    "    x2 = -2*c/(b+math.sqrt(b**2-4*a*c))\n",
    "\n",
    "else:\n",
    "    x1 = (b+math.sqrt(b**2-4*a*c))/2*a\n",
    "    x2 = (b-math.sqrt(b**2-4*a*c))/2*a\n",
    "\n",
    "print(\"解1\",x1)\n",
    "print(\"解2:\",x2)"
   ]
  },
  {
   "cell_type": "markdown",
   "metadata": {},
   "source": [
    "## 桁落ちは値のほぼ等しい数値同士の減算をするなどして、有効数字を失うことによって生じる。\n",
    "### 特に平方根の減算結果では有効数字が大きく損なわれる可能性がある。\n",
    "### そこでb>0のときに、平方の中身とbの値がほぼ等しい数値同士の減算になる場合があるので有理化する。"
   ]
  },
  {
   "cell_type": "code",
   "execution_count": 13,
   "metadata": {},
   "outputs": [
    {
     "name": "stdout",
     "output_type": "stream",
     "text": [
      "123\n",
      "96.04686356149273\n"
     ]
    }
   ],
   "source": [
    "a,b,c = map(int,input().split())\n",
    "res1 = b\n",
    "res2 = math.sqrt(b**2-4*a*c)\n",
    "print(res1)\n",
    "print(res2)"
   ]
  },
  {
   "cell_type": "markdown",
   "metadata": {},
   "source": [
    "## 上記のコードからres1,res2の値は近しいことがわかる。\n",
    "## しかし減算になるのはb>0のときになるのでその条件下でのみ有理化した式を出力させれば良い。"
   ]
  }
 ],
 "metadata": {
  "interpreter": {
   "hash": "38a9d234814b4a76450ff8f45502c93f8b25cfa1806eaf223240433707b634f9"
  },
  "kernelspec": {
   "display_name": "Python 3.8.8 64-bit ('base': conda)",
   "name": "python3"
  },
  "language_info": {
   "codemirror_mode": {
    "name": "ipython",
    "version": 3
   },
   "file_extension": ".py",
   "mimetype": "text/x-python",
   "name": "python",
   "nbconvert_exporter": "python",
   "pygments_lexer": "ipython3",
   "version": "3.8.8"
  },
  "orig_nbformat": 4
 },
 "nbformat": 4,
 "nbformat_minor": 2
}
